{
  "cells": [
    {
      "cell_type": "code",
      "execution_count": 3,
      "metadata": {
        "id": "zMwREJ0RmKj5"
      },
      "outputs": [],
      "source": [
        "import os\n",
        "import torch\n",
        "import csv\n",
        "import random\n",
        "import pandas as pd\n",
        "import numpy as np\n",
        "import torch.nn as nn\n",
        "import seaborn as sns\n",
        "from sklearn.metrics import roc_auc_score, roc_curve\n",
        "from sklearn.model_selection import cross_val_score\n",
        "from sklearn.model_selection import KFold\n",
        "from sklearn.model_selection import StratifiedKFold\n",
        "import matplotlib.pyplot as plt\n",
        "from sklearn.utils import shuffle\n",
        "from sklearn.metrics import classification_report\n",
        "from sklearn.model_selection import train_test_split\n",
        "from sklearn.metrics import confusion_matrix, accuracy_score, precision_score, recall_score, f1_score\n",
        "from numpy import unique\n",
        "import torch.optim as optim\n",
        "from google.colab import drive\n",
        "from warnings import filterwarnings\n"
      ]
    },
    {
      "cell_type": "markdown",
      "metadata": {
        "id": "bjKpY-horOWd"
      },
      "source": [
        "# Function"
      ]
    },
    {
      "cell_type": "code",
      "execution_count": 9,
      "metadata": {
        "id": "Zo08_1GKf6IR"
      },
      "outputs": [],
      "source": [
        "train_dataset = pd.read_csv('/content/drive/MyDrive/all_data.csv')\n",
        "test_dataset = pd.read_csv('/content/drive/MyDrive/wearable-data_100_f.csv')"
      ]
    },
    {
      "cell_type": "code",
      "execution_count": null,
      "metadata": {},
      "outputs": [],
      "source": [
        "X_train = train_dataset.drop(columns=['label'])\n",
        "y_train = train_dataset['label']"
      ]
    },
    {
      "cell_type": "code",
      "execution_count": 15,
      "metadata": {},
      "outputs": [],
      "source": [
        "X_train = X_train.reshape((X_train.shape[0], X_train.shape[1], 1))\n",
        "y_train = y_train.reshape((y_train.shape[0], y_train.shape[1], 1))"
      ]
    },
    {
      "cell_type": "code",
      "execution_count": 16,
      "metadata": {
        "id": "Bi-ZhJKneWIO"
      },
      "outputs": [],
      "source": [
        "X_train_tensor = torch.tensor(X_train)\n",
        "y_train_tensor = torch.tensor(y_train.values)"
      ]
    },
    {
      "cell_type": "code",
      "execution_count": null,
      "metadata": {},
      "outputs": [],
      "source": [
        "X_test = test_dataset.drop(columns=['label'])\n",
        "y_test = test_dataset['label']"
      ]
    },
    {
      "cell_type": "code",
      "execution_count": null,
      "metadata": {},
      "outputs": [],
      "source": [
        "X_train_meta, y_train_meta, X_test_meta, y_test_meta = train_test_split(\n",
        "    X_test, y_test, test_size=0.20, random_state=10, stratify=y_test, shuffle=True\n",
        ")"
      ]
    },
    {
      "cell_type": "code",
      "execution_count": 17,
      "metadata": {},
      "outputs": [],
      "source": [
        "X_train_meta_tensor = torch.tensor(X_train_meta, dtype=torch.float32)\n",
        "y_train_meta_tensor = torch.tensor(y_train_meta.values, dtype=torch.float32)"
      ]
    },
    {
      "cell_type": "code",
      "execution_count": 18,
      "metadata": {
        "id": "M3CswKmAsZ42"
      },
      "outputs": [],
      "source": [
        "X_test_meta_tensor = torch.tensor(X_test_meta,dtype=torch.float32)\n",
        "y_test_meta_tensor = torch.tensor(y_test_meta.values,dtype=torch.float32)"
      ]
    },
    {
      "cell_type": "markdown",
      "metadata": {
        "id": "Wxwk8pOKPr8K"
      },
      "source": [
        "### MobileNETv2"
      ]
    },
    {
      "cell_type": "code",
      "execution_count": 22,
      "metadata": {
        "id": "FbweXYxPGsLK"
      },
      "outputs": [],
      "source": [
        "import torch\n",
        "import torch.nn as nn\n",
        "\n",
        "class ConvNormActivation(torch.nn.Sequential):\n",
        "    def __init__(\n",
        "        self,\n",
        "        in_channels,\n",
        "        out_channels,\n",
        "        kernel_size = 3,\n",
        "        stride = 1,\n",
        "        padding = None,\n",
        "        groups = 1,\n",
        "        norm_layer = nn.BatchNorm1d,\n",
        "        activation_layer = torch.nn.ReLU,\n",
        "        dilation = 1,\n",
        "        inplace = True,\n",
        "        bias = None,\n",
        "        conv_layer = torch.nn.Conv1d,\n",
        "    ):\n",
        "\n",
        "        if padding is None:\n",
        "          #  if isinstance(kernel_size, int) and isinstance(dilation, int):\n",
        "          #       padding = (kernel_size - 1) // 2 * dilation\n",
        "          #   else:\n",
        "          #       _conv_dim = len(kernel_size) if isinstance(kernel_size, Sequence) else len(dilation)\n",
        "          #       kernel_size = _make_ntuple(kernel_size, _conv_dim)\n",
        "          #       dilation = _make_ntuple(dilation, _conv_dim)\n",
        "          #       padding = tuple((kernel_size[i] - 1) // 2 * dilation[i] for i in range(_conv_dim))\n",
        "          padding = (kernel_size - 1) // 2 * dilation\n",
        "        if bias is None:\n",
        "            bias = norm_layer is None\n",
        "\n",
        "        layers = [\n",
        "            conv_layer(\n",
        "                in_channels,\n",
        "                out_channels,\n",
        "                kernel_size,\n",
        "                stride,\n",
        "                padding,\n",
        "                dilation=dilation,\n",
        "                groups=groups,\n",
        "                bias=bias,\n",
        "            )\n",
        "        ]\n",
        "\n",
        "        if norm_layer is not None:\n",
        "            layers.append(norm_layer(out_channels))\n",
        "\n",
        "        if activation_layer is not None:\n",
        "            params = {} if inplace is None else {\"inplace\": inplace}\n",
        "            layers.append(activation_layer(**params))\n",
        "        super().__init__(*layers)\n",
        "        #_log_api_usage_once(self)\n",
        "        self.out_channels = out_channels\n",
        "\n",
        "        # if self.__class__ == ConvNormActivation:\n",
        "        #     warnings.warn(\n",
        "        #         \"Don't use ConvNormActivation directly, please use Conv2dNormActivation and Conv3dNormActivation instead.\"\n",
        "        #     )\n",
        "\n",
        "\n",
        "class Conv1dNormActivation(ConvNormActivation):\n",
        "    \"\"\"\n",
        "    Configurable block used for Convolution2d-Normalization-Activation blocks.\n",
        "\n",
        "    Args:\n",
        "        in_channels (int): Number of channels in the input image\n",
        "        out_channels (int): Number of channels produced by the Convolution-Normalization-Activation block\n",
        "        kernel_size: (int, optional): Size of the convolving kernel. Default: 3\n",
        "        stride (int, optional): Stride of the convolution. Default: 1\n",
        "        padding (int, tuple or str, optional): Padding added to all four sides of the input. Default: None, in which case it will be calculated as ``padding = (kernel_size - 1) // 2 * dilation``\n",
        "        groups (int, optional): Number of blocked connections from input channels to output channels. Default: 1\n",
        "        norm_layer (Callable[..., torch.nn.Module], optional): Norm layer that will be stacked on top of the convolution layer. If ``None`` this layer won't be used. Default: ``torch.nn.BatchNorm2d``\n",
        "        activation_layer (Callable[..., torch.nn.Module], optional): Activation function which will be stacked on top of the normalization layer (if not None), otherwise on top of the conv layer. If ``None`` this layer won't be used. Default: ``torch.nn.ReLU``\n",
        "        dilation (int): Spacing between kernel elements. Default: 1\n",
        "        inplace (bool): Parameter for the activation layer, which can optionally do the operation in-place. Default ``True``\n",
        "        bias (bool, optional): Whether to use bias in the convolution layer. By default, biases are included if ``norm_layer is None``.\n",
        "\n",
        "    \"\"\"\n",
        "\n",
        "    def __init__(\n",
        "        self,\n",
        "        in_channels,\n",
        "        out_channels,\n",
        "        kernel_size = 3,\n",
        "        stride = 1,\n",
        "        padding = None,\n",
        "        groups = 1,\n",
        "        norm_layer = torch.nn.BatchNorm1d,\n",
        "        activation_layer = torch.nn.ReLU,\n",
        "        dilation = 1,\n",
        "        inplace = True,\n",
        "        bias = None,\n",
        "    ):\n",
        "\n",
        "        super().__init__(\n",
        "            in_channels,\n",
        "            out_channels,\n",
        "            kernel_size,\n",
        "            stride,\n",
        "            padding,\n",
        "            groups,\n",
        "            norm_layer,\n",
        "            activation_layer,\n",
        "            dilation,\n",
        "            inplace,\n",
        "            bias,\n",
        "            torch.nn.Conv1d,\n",
        "        )\n",
        "\n",
        "\n",
        "class InvertedResidual(nn.Module):\n",
        "\n",
        "    def __init__(\n",
        "        self,\n",
        "        inp,\n",
        "        oup,\n",
        "        stride,\n",
        "        expand_ratio,\n",
        "        norm_layer = None\n",
        "    ):\n",
        "\n",
        "        super().__init__()\n",
        "        self.stride = stride\n",
        "        # if stride not in [1, 2]:\n",
        "        #     raise ValueError(f\"stride should be 1 or 2 instead of {stride}\")\n",
        "\n",
        "        if norm_layer is None:\n",
        "            norm_layer = nn.BatchNorm1d\n",
        "\n",
        "        hidden_dim = int(round(inp * expand_ratio))\n",
        "        self.use_res_connect = self.stride == 1 and inp == oup\n",
        "\n",
        "        layers = []\n",
        "        if expand_ratio != 1:\n",
        "            # pw\n",
        "            layers.append(\n",
        "                Conv1dNormActivation(inp,\n",
        "                                     hidden_dim,\n",
        "                                     kernel_size = 1,\n",
        "                                     norm_layer=norm_layer,\n",
        "                                     activation_layer=nn.ReLU6)\n",
        "            )\n",
        "        layers.extend(\n",
        "            [\n",
        "                # dw\n",
        "                Conv1dNormActivation(\n",
        "                    hidden_dim,\n",
        "                    hidden_dim,\n",
        "                    stride=stride,\n",
        "                    groups=hidden_dim,\n",
        "                    norm_layer=norm_layer,\n",
        "                    activation_layer=nn.ReLU6,\n",
        "                ),\n",
        "                # pw-linear\n",
        "                nn.Conv1d(hidden_dim, oup, 1, 1, 0, bias=False),\n",
        "                norm_layer(oup),\n",
        "            ]\n",
        "        )\n",
        "        self.conv = nn.Sequential(*layers)\n",
        "        self.out_channels = oup\n",
        "        self._is_cn = stride > 1\n",
        "\n",
        "    def forward(self, x):\n",
        "        if self.use_res_connect:\n",
        "            return x + self.conv(x)\n",
        "        else:\n",
        "            return self.conv(x)\n",
        "\n",
        "\n",
        "def _make_divisible(v, divisor, min_value=None):\n",
        "    \"\"\"\n",
        "    This function is taken from the original tf repo.\n",
        "    It ensures that all layers have a channel number that is divisible by 8\n",
        "    It can be seen here:\n",
        "    https://github.com/tensorflow/models/blob/master/research/slim/nets/mobilenet/mobilenet.py\n",
        "    :param v:\n",
        "    :param divisor:\n",
        "    :param min_value:\n",
        "    :return:\n",
        "    \"\"\"\n",
        "    if min_value is None:\n",
        "        min_value = divisor\n",
        "    new_v = max(min_value, int(v + divisor / 2) // divisor * divisor)\n",
        "    # Make sure that round down does not go down by more than 10%.\n",
        "    if new_v < 0.9 * v:\n",
        "        new_v += divisor\n",
        "    return new_v\n",
        "\n",
        "\n",
        "class MobileNetV2(nn.Module):\n",
        "    def __init__(\n",
        "        self,\n",
        "        num_classes = 128,\n",
        "        input_length = 1000,\n",
        "        width_mult = 1.0,\n",
        "        inverted_residual_setting = None,\n",
        "        round_nearest = 8,\n",
        "        block = None,\n",
        "        norm_layer = None,\n",
        "        dropout = 0.2,\n",
        "    ):\n",
        "        \"\"\"\n",
        "        MobileNet V2 main class\n",
        "\n",
        "        Args:\n",
        "            num_classes (int): Number of classes\n",
        "            width_mult (float): Width multiplier - adjusts number of channels in each layer by this amount\n",
        "            inverted_residual_setting: Network structure\n",
        "            round_nearest (int): Round the number of channels in each layer to be a multiple of this number\n",
        "            Set to 1 to turn off rounding\n",
        "            block: Module specifying inverted residual building block for mobilenet\n",
        "            norm_layer: Module specifying the normalization layer to use\n",
        "            dropout (float): The droupout probability\n",
        "\n",
        "        \"\"\"\n",
        "        super().__init__()\n",
        "        #_log_api_usage_once(self)\n",
        "\n",
        "        if block is None:\n",
        "            block = InvertedResidual\n",
        "\n",
        "        if norm_layer is None:\n",
        "            norm_layer = nn.BatchNorm1d\n",
        "\n",
        "        image_channel = 1\n",
        "        input_channel = 32\n",
        "        last_channel = 128\n",
        "        self.input_length = input_length\n",
        "\n",
        "        if inverted_residual_setting is None:\n",
        "            inverted_residual_setting = [\n",
        "                # t, c, n, s\n",
        "                [1, 16, 1, 1],\n",
        "                [6, 24, 2, 2],\n",
        "                [6, 32, 3, 2],\n",
        "                [6, 64, 4, 2],\n",
        "                [6, 128, 3, 1]\n",
        "                # [6, 160, 3, 2],\n",
        "                # [6, 320, 1, 1],\n",
        "            ]\n",
        "\n",
        "        # only check the first element, assuming user knows t,c,n,s are required\n",
        "        if len(inverted_residual_setting) == 0 or len(inverted_residual_setting[0]) != 4:\n",
        "            raise ValueError(\n",
        "                f\"inverted_residual_setting should be non-empty or a 4-element list, got {inverted_residual_setting}\"\n",
        "            )\n",
        "\n",
        "        # building first layer\n",
        "        input_channel = _make_divisible(input_channel * width_mult, round_nearest)\n",
        "        self.last_channel = _make_divisible(last_channel * max(1.0, width_mult), round_nearest)\n",
        "        features = [\n",
        "            Conv1dNormActivation(image_channel,\n",
        "                                 input_channel,\n",
        "                                 stride= 2,\n",
        "                                 norm_layer=norm_layer,\n",
        "                                 activation_layer=nn.ReLU6)\n",
        "        ]\n",
        "\n",
        "        # building inverted residual blocks\n",
        "        for t, c, n, s in inverted_residual_setting:\n",
        "            output_channel = _make_divisible(c * width_mult, round_nearest)\n",
        "            for i in range(n):\n",
        "                stride = s if i == 0 else 1\n",
        "                features.append(block(input_channel,\n",
        "                                      output_channel,\n",
        "                                      stride,\n",
        "                                      expand_ratio=t,\n",
        "                                      norm_layer=norm_layer))\n",
        "                input_channel = output_channel\n",
        "\n",
        "        # building last several layers\n",
        "        features.append(\n",
        "            Conv1dNormActivation(\n",
        "                input_channel,\n",
        "                self.last_channel,\n",
        "                kernel_size= 1,\n",
        "                norm_layer=norm_layer,\n",
        "                activation_layer=nn.ReLU6\n",
        "            )\n",
        "        )\n",
        "        # make it nn.Sequential\n",
        "        self.features = nn.Sequential(*features)\n",
        "\n",
        "        # building classifier\n",
        "        self.classifier = nn.Sequential(\n",
        "            nn.Dropout(p=dropout),\n",
        "            nn.Linear(self.last_channel, num_classes),\n",
        "        )\n",
        "\n",
        "        # weight initialization\n",
        "        for m in self.modules():\n",
        "            if isinstance(m, nn.Conv1d):\n",
        "                nn.init.kaiming_normal_(m.weight, mode=\"fan_out\")\n",
        "                if m.bias is not None:\n",
        "                    nn.init.zeros_(m.bias)\n",
        "            elif isinstance(m, (nn.BatchNorm1d, nn.GroupNorm)):\n",
        "                nn.init.ones_(m.weight)\n",
        "                nn.init.zeros_(m.bias)\n",
        "            elif isinstance(m, nn.Linear):\n",
        "                nn.init.normal_(m.weight, 0, 0.01)\n",
        "                nn.init.zeros_(m.bias)\n",
        "\n",
        "    def _forward_impl(self, x):\n",
        "        # This exists since TorchScript doesn't support inheritance, so the superclass method\n",
        "        # (this one) needs to have a name other than `forward` that can be accessed in a subclass\n",
        "        x = self.features(x)\n",
        "        # Cannot use \"squeeze\" as batch-size can be 1\n",
        "        x = nn.functional.adaptive_avg_pool1d(x, 1)\n",
        "        x = torch.flatten(x, 1)\n",
        "        x = self.classifier(x)\n",
        "        return x\n",
        "\n",
        "    def forward(self, x):\n",
        "        x = torch.reshape(x, (-1, 1, self.input_length))\n",
        "        return self._forward_impl(x)\n",
        "\n",
        "\n",
        "model_mobilenet = MobileNetV2()"
      ]
    },
    {
      "cell_type": "code",
      "execution_count": 25,
      "metadata": {
        "id": "a0gxyjjtjqe_"
      },
      "outputs": [],
      "source": [
        "def df_class(X, Y, n):\n",
        "    class_list = []\n",
        "    for i in range(n):\n",
        "        class_mask = Y == i\n",
        "        df_i_label = X[class_mask]\n",
        "        class_list.append(df_i_label)\n",
        "    return class_list"
      ]
    },
    {
      "cell_type": "code",
      "execution_count": 38,
      "metadata": {
        "id": "5fzPHMCsjqcY"
      },
      "outputs": [],
      "source": [
        "train_class = df_class(X_train_tensor, y_train_tensor, 4)\n",
        "\n",
        "train_class_indices = [0, 1, 2,3]\n",
        "train_patches_class = [train_class[i] for i in train_class_indices]\n",
        "train_class_labels = [0, 1, 2,3]"
      ]
    },
    {
      "cell_type": "code",
      "execution_count": 39,
      "metadata": {
        "id": "rseVV9kJ7Lle"
      },
      "outputs": [],
      "source": [
        "test_class_1= df_class(X_train_meta_tensor,y_train_meta_tensor,2)\n",
        "test_class_2 = df_class(X_test_meta_tensor,y_test_meta_tensor,2)"
      ]
    },
    {
      "cell_type": "code",
      "execution_count": 40,
      "metadata": {
        "id": "DqUAOa8_jqY_"
      },
      "outputs": [],
      "source": [
        "test_class_indices = [0,1]\n",
        "test_class_labels = [0,1]\n",
        "\n",
        "test_patches_class_1 = [test_class_1[i] for i in test_class_indices]\n",
        "test_patches_class_2 = [test_class_2[i] for i in test_class_indices]"
      ]
    },
    {
      "cell_type": "code",
      "execution_count": 41,
      "metadata": {
        "id": "THCJv3XisnFv"
      },
      "outputs": [],
      "source": [
        "def calc_euclidean_dists(x, y):\n",
        "    n = x.size(0)\n",
        "    m = y.size(0)\n",
        "\n",
        "    x = x.unsqueeze(1).expand(n, m, -1)\n",
        "    y = y.unsqueeze(0).expand(n, m, -1)\n",
        "\n",
        "    return torch.mean(torch.pow(x - y, 2), dim=2)\n",
        "\n",
        "def calc_std_predictions(mc_predictions):\n",
        "    mc_predictions_tensor = torch.stack(mc_predictions, dim=0)\n",
        "    std_predictions = torch.std(mc_predictions_tensor, dim=0)\n",
        "\n",
        "    return std_predictions\n",
        "\n",
        "def calc_mean_accuracy(predictions, y):\n",
        "\n",
        "    accuracy = torch.mean((torch.argmax(predictions, dim=-1) == torch.argmax(y, dim=-1)).float())\n",
        "\n",
        "    return accuracy"
      ]
    },
    {
      "cell_type": "markdown",
      "metadata": {
        "id": "fUGSHI0r1n6G"
      },
      "source": [
        "### Protomodel"
      ]
    },
    {
      "cell_type": "code",
      "execution_count": 42,
      "metadata": {
        "id": "dYlMytM8sPEA"
      },
      "outputs": [],
      "source": [
        "mc_loss_weight = 0.5\n",
        "n_times = 10\n",
        "class Prototypical(nn.Module):\n",
        "    def __init__(self, model_mobilenet, d):\n",
        "        super(Prototypical, self).__init__()\n",
        "        self.d = d\n",
        "        self.encoder = model_mobilenet\n",
        "\n",
        "    def forward(self, support, query, support_labels, query_labels, K, C, N, n_times, training):\n",
        "        n_class = C\n",
        "        n_support = K\n",
        "        n_query = N\n",
        "        tC = 2\n",
        "        n_times = 10\n",
        "\n",
        "        if training == True :\n",
        "            loss = 0\n",
        "            mc_predictions = []\n",
        "            for i in range(n_times) :                                               # n_times passing every query sample for calculating variance\n",
        "\n",
        "                y = torch.zeros((int(C*N),C))\n",
        "                for i in range(int(C*N)):\n",
        "                    x = (support_labels == query_labels[i]).nonzero(as_tuple=True)[0]                        # creation of 1-hot for true labels\n",
        "                    y[i][x] = 1.\n",
        "                cat = torch.cat([support,query], axis=0)\n",
        "                z = self.encoder(cat)\n",
        "                #print(z)\n",
        "                z_prototypes = z[:n_class * n_support].view(n_class, n_support, z.shape[-1])\n",
        "                z_prototypes = torch.mean(z_prototypes, dim=1)\n",
        "                z_query = z[n_class * n_support:]\n",
        "                dists = calc_euclidean_dists(z_query, z_prototypes)\n",
        "\n",
        "                log_p_y = torch.nn.functional.log_softmax(-dists, dim=-1)\n",
        "                #print(log_p_y)\n",
        "                # y_tensor = torch.from_numpy(y)\n",
        "                # loss1 = -torch.mean(torch.sum(y_tensor * log_p_y, dim=-1))\n",
        "                y = y.cuda()\n",
        "                loss1  = -torch.mean(torch.sum(y * log_p_y, dim=-1))\n",
        "                loss += loss1\n",
        "                predictions = torch.nn.functional.softmax(-dists, dim=-1)\n",
        "                mc_predictions.append(predictions)\n",
        "\n",
        "            mc_predictions = torch.stack(mc_predictions, axis =0)\n",
        "            std_predictions = torch.std(mc_predictions, axis = 0)\n",
        "            mean_predictions = torch.mean(mc_predictions, axis =0)\n",
        "            std = torch.sum(torch.sum(std_predictions * y,axis=1))\n",
        "\n",
        "            # Calculate the loss and accuracy\n",
        "            loss += mc_loss_weight*std\n",
        "            #print(loss)\n",
        "            mean_accuracy = calc_mean_accuracy(mean_predictions,y)\n",
        "\n",
        "            return loss, mean_accuracy, mean_predictions\n",
        "\n",
        "        if training == False:\n",
        "          loss = 0\n",
        "          mc_predictions = []\n",
        "          for i in range(n_times):\n",
        "            y = torch.zeros((int(C*N), C))\n",
        "            for i in range(int(C*N)):\n",
        "              #x = support_labels.index(query_labels[i])\n",
        "              x = (support_labels == query_labels[i]).nonzero(as_tuple=True)[0]\n",
        "              y[i][x] = 1.\n",
        "\n",
        "            cat = torch.cat([support, query], dim=0)\n",
        "            z = self.encoder(cat)\n",
        "            z_prototypes = z[:n_class * n_support].view(n_class, n_support, z.shape[-1])\n",
        "            z_prototypes = torch.mean(z_prototypes, dim=1)\n",
        "            z_query = z[n_class * n_support:]\n",
        "            #print('z_prototypes 0',z_prototypes[0])\n",
        "            #print('z_prototypes 1',z_prototypes[1])\n",
        "            dists = calc_euclidean_dists(z_query, z_prototypes)\n",
        "           # print('dist 0',dists[0])\n",
        "           # print('dist 1',dists[1])\n",
        "            log_p_y = torch.nn.functional.log_softmax(-dists, dim=-1)\n",
        "            # print('log_p_y 0',log_p_y[0])\n",
        "            # print('log_p_y 1',log_p_y[1])\n",
        "            #y = y.cuda()\n",
        "            loss1 = -torch.mean(torch.sum(log_p_y * y, dim=-1))\n",
        "            loss += loss1\n",
        "            predictions = torch.nn.functional.softmax(-dists, dim=-1)\n",
        "            # print('predictions 0',predictions[0])\n",
        "            # print('predictions 1',predictions[1])\n",
        "            mc_predictions.append(predictions)\n",
        "            #print('mc_predictions ',mc_predictions)\n",
        "\n",
        "          classwise_mean_acc = []\n",
        "          mc_predictions = torch.stack(mc_predictions, axis =0)\n",
        "          mean_predictions = torch.mean(mc_predictions, axis=0)\n",
        "\n",
        "\n",
        "          mean_eq = torch.tensor(torch.argmax(mean_predictions, dim=-1).int() == torch.argmax(y, dim=-1).int(), dtype=torch.float32)\n",
        "          mean_accuracy = torch.mean(mean_eq)\n",
        "          mean_pred_index = torch.argmax(mean_predictions, dim=1)\n",
        "    # Mean class-wise accuracies\n",
        "          mean_correct_class = [[] for _ in range(tC)]\n",
        "          mean_correct_pred = [[] for _ in range(tC)]\n",
        "          classwise_mean_acc = [[] for _ in range(tC)]\n",
        "\n",
        "          for i in range(int(C * N)):\n",
        "              #x = support_labels.index(query_labels[i])\n",
        "              x = (support_labels == query_labels[i]).nonzero(as_tuple=True)[0]\n",
        "              mean_correct_class[x].append('4')\n",
        "\n",
        "              if mean_pred_index[i] == x:\n",
        "                  mean_correct_pred[x].append('4')\n",
        "\n",
        "          for i in range(tC):\n",
        "              z = len(mean_correct_pred[i]) / len(mean_correct_class[i])\n",
        "              classwise_mean_acc[i].append(z)\n",
        "\n",
        "          # Standard deviation calculation\n",
        "          # std = 0\n",
        "          # for i in range(int(C * N)):\n",
        "          #    # x = support_labels.index(query_labels[i])\n",
        "          #     x = (support_labels == query_labels[i]).nonzero(as_tuple=True)[0]\n",
        "          #     p_i = torch.stack([p[i, :] for p in mc_predictions])\n",
        "          #     std_i = torch.std(p_i, dim=0)\n",
        "          #     std_i_true = std_i[x]\n",
        "          #     std += std_i_true\n",
        "\n",
        "          # loss += mc_loss_weight * std\n",
        "\n",
        "          # y = torch.zeros((int(C * N), C))\n",
        "          # for i in range(int(C * N)):\n",
        "          #     x = (support_labels == query_labels[i]).nonzero(as_tuple=True)[0]\n",
        "          #     #x = support_labels.index(query_labels[i])\n",
        "          #     y[i][x] = 1.\n",
        "\n",
        "        return  mc_predictions, mean_accuracy, y\n",
        "          #return  mc_predictions\n",
        "\n",
        "\n",
        "    def save(self, model_path):\n",
        "      torch.save(self.encoder.state_dict(), model_path)\n",
        "\n",
        "    def load(self, model_path):\n",
        "      self.encoder.load_state_dict(torch.load(model_path))"
      ]
    },
    {
      "cell_type": "code",
      "execution_count": 43,
      "metadata": {
        "id": "nR3TKPB1IuLX"
      },
      "outputs": [],
      "source": [
        "ProtoModel = Prototypical(model_mobilenet, 1000)\n",
        "ProtoModel.cuda()\n",
        "n_times = 10\n",
        "optimizer = optim.Adam(ProtoModel.parameters(), lr=0.001)\n",
        "lr_scheduler = optim.lr_scheduler.StepLR(optimizer, step_size=20, gamma=0.5)"
      ]
    },
    {
      "cell_type": "markdown",
      "metadata": {
        "id": "XsvKNBBdY1_M"
      },
      "source": [
        "# Train Base learner"
      ]
    },
    {
      "cell_type": "code",
      "execution_count": 44,
      "metadata": {
        "id": "pOPNrsqcideU"
      },
      "outputs": [],
      "source": [
        "def train_episode(df_list, K, C, N, class_labels):\n",
        "    selected_classes = np.random.choice(class_labels, C, replace=False)\n",
        "    support_list = []\n",
        "    query_list = []\n",
        "    query_labels = []\n",
        "    support_labels = torch.tensor(selected_classes)\n",
        "\n",
        "    for x in selected_classes:\n",
        "        df_indices = np.random.choice(len(df_list[x - 1]), K, replace=False)\n",
        "        support_ = df_list[x - 1][df_indices, :]\n",
        "        qran_indices = np.random.choice(len(df_list[x - 1]), N, replace=False)\n",
        "        query_ = df_list[x - 1][qran_indices, :]\n",
        "\n",
        "        for i in range(N):\n",
        "            query_labels.append(x)\n",
        "        query_list.extend(query_)\n",
        "        support_list.extend(support_)\n",
        "\n",
        "    temp1 = list(zip(query_list, query_labels))\n",
        "    random.shuffle(temp1)\n",
        "    query_list, query_labels = zip(*temp1)\n",
        "\n",
        "    query_list = torch.reshape(torch.cat(query_list), (C * N, 1000))\n",
        "    support_list = torch.reshape(torch.cat(support_list), (C * K, 1000))\n",
        "    support_list = support_list.unsqueeze(-1)\n",
        "    query_list = query_list.unsqueeze(-1)\n",
        "    query_labels = torch.tensor(query_labels)\n",
        "    # print('support shape:',support_list.shape )\n",
        "    # print('query shape:',query_list.shape )\n",
        "    return query_list, support_list, query_labels, support_labels"
      ]
    },
    {
      "cell_type": "markdown",
      "metadata": {
        "id": "iu_5YNQl5c_2"
      },
      "source": [
        "### with GPU"
      ]
    },
    {
      "cell_type": "code",
      "execution_count": 45,
      "metadata": {
        "id": "mdqYFmoGO9yX"
      },
      "outputs": [],
      "source": [
        "def train_step(support, query, support_labels, query_labels, K, C, N, training=True):\n",
        "    #support = torch.cat(support, 0)\n",
        "    #query = torch.cat(query,0)\n",
        "    support = support.cuda().float()\n",
        "    query = query.cuda().float()\n",
        "    support_labels = support_labels.cuda().float()\n",
        "    query_labels = query_labels.cuda().float()\n",
        "    loss, mean_accuracy, mean_predictions = ProtoModel(support, query, support_labels, query_labels, K, C, N, n_times, training=True)\n",
        "\n",
        "    optimizer.zero_grad()\n",
        "    loss.backward()\n",
        "    optimizer.step()\n",
        "\n",
        "    return loss.item(), mean_accuracy.item(), mean_predictions"
      ]
    },
    {
      "cell_type": "markdown",
      "metadata": {
        "id": "h2KWhktf5fvw"
      },
      "source": [
        "### with CPU"
      ]
    },
    {
      "cell_type": "code",
      "execution_count": 29,
      "metadata": {
        "id": "4D0L79BH5WPm"
      },
      "outputs": [],
      "source": [
        "def train_step(support, query, support_labels, query_labels, K, C, N, training=True):\n",
        "    loss, mean_accuracy, mean_predictions = ProtoModel(support, query, support_labels, query_labels, K, C, N, n_times, training=True)\n",
        "    optimizer.zero_grad()\n",
        "    loss.backward()\n",
        "    optimizer.step()\n",
        "\n",
        "    return loss.item(), mean_accuracy.item(), mean_predictions"
      ]
    },
    {
      "cell_type": "code",
      "execution_count": 46,
      "metadata": {
        "id": "hnJXEJ7ycfp6"
      },
      "outputs": [],
      "source": [
        "checkpoint_dir = '/content/drive/MyDrive/Model-checkpoints/train/'\n",
        "checkpoint_prefix = os.path.join(checkpoint_dir, \"ckpt\")"
      ]
    },
    {
      "cell_type": "markdown",
      "metadata": {
        "id": "JfjU8z6w5iBG"
      },
      "source": [
        "### train loop"
      ]
    },
    {
      "cell_type": "code",
      "execution_count": 47,
      "metadata": {
        "id": "LxXpvRhKOyi2"
      },
      "outputs": [
        {
          "name": "stdout",
          "output_type": "stream",
          "text": [
            "Epoch 1, Train Loss: 10.99, Train Accuracy: 36.04\n",
            "Epoch 2, Train Loss: 10.55, Train Accuracy: 45.27\n",
            "Epoch 3, Train Loss: 9.05, Train Accuracy: 57.00\n",
            "Epoch 4, Train Loss: 8.50, Train Accuracy: 61.20\n",
            "Epoch 5, Train Loss: 8.16, Train Accuracy: 64.33\n",
            "Epoch 6, Train Loss: 7.93, Train Accuracy: 65.36\n",
            "Epoch 7, Train Loss: 7.73, Train Accuracy: 67.02\n",
            "Epoch 8, Train Loss: 7.78, Train Accuracy: 66.78\n",
            "Epoch 9, Train Loss: 7.63, Train Accuracy: 66.87\n",
            "Epoch 10, Train Loss: 7.38, Train Accuracy: 69.16\n",
            "Epoch 11, Train Loss: 7.05, Train Accuracy: 70.84\n",
            "Epoch 12, Train Loss: 7.03, Train Accuracy: 71.07\n",
            "Epoch 13, Train Loss: 6.96, Train Accuracy: 70.71\n",
            "Epoch 14, Train Loss: 6.89, Train Accuracy: 71.20\n",
            "Epoch 15, Train Loss: 6.97, Train Accuracy: 71.62\n",
            "Epoch 16, Train Loss: 6.77, Train Accuracy: 73.22\n",
            "Epoch 17, Train Loss: 6.70, Train Accuracy: 73.69\n",
            "Epoch 18, Train Loss: 6.66, Train Accuracy: 74.27\n",
            "Epoch 19, Train Loss: 6.50, Train Accuracy: 74.38\n",
            "Epoch 20, Train Loss: 6.45, Train Accuracy: 73.67\n",
            "Epoch 21, Train Loss: 6.33, Train Accuracy: 75.87\n",
            "Epoch 22, Train Loss: 6.23, Train Accuracy: 76.18\n",
            "Epoch 23, Train Loss: 6.16, Train Accuracy: 77.33\n",
            "Epoch 24, Train Loss: 6.12, Train Accuracy: 76.00\n",
            "Epoch 25, Train Loss: 6.04, Train Accuracy: 77.40\n",
            "Epoch 26, Train Loss: 5.99, Train Accuracy: 78.09\n",
            "Epoch 27, Train Loss: 5.89, Train Accuracy: 77.60\n",
            "Epoch 28, Train Loss: 5.72, Train Accuracy: 78.71\n",
            "Epoch 29, Train Loss: 5.75, Train Accuracy: 79.00\n",
            "Epoch 30, Train Loss: 5.45, Train Accuracy: 79.44\n",
            "Epoch 31, Train Loss: 5.50, Train Accuracy: 80.27\n",
            "Epoch 32, Train Loss: 5.39, Train Accuracy: 81.20\n",
            "Epoch 33, Train Loss: 5.38, Train Accuracy: 80.56\n",
            "Epoch 34, Train Loss: 5.16, Train Accuracy: 82.27\n",
            "Epoch 35, Train Loss: 5.32, Train Accuracy: 81.13\n",
            "Epoch 36, Train Loss: 5.03, Train Accuracy: 82.47\n",
            "Epoch 37, Train Loss: 5.00, Train Accuracy: 82.80\n",
            "Epoch 38, Train Loss: 4.80, Train Accuracy: 83.29\n",
            "Epoch 39, Train Loss: 5.04, Train Accuracy: 82.24\n",
            "Epoch 40, Train Loss: 4.82, Train Accuracy: 83.58\n",
            "Epoch 41, Train Loss: 4.54, Train Accuracy: 85.38\n",
            "Epoch 42, Train Loss: 4.55, Train Accuracy: 85.33\n",
            "Epoch 43, Train Loss: 4.62, Train Accuracy: 84.91\n",
            "Epoch 44, Train Loss: 4.51, Train Accuracy: 85.24\n",
            "Epoch 45, Train Loss: 4.32, Train Accuracy: 86.73\n",
            "Epoch 46, Train Loss: 4.41, Train Accuracy: 85.78\n",
            "Epoch 47, Train Loss: 4.39, Train Accuracy: 85.84\n",
            "Epoch 48, Train Loss: 4.16, Train Accuracy: 86.60\n",
            "Epoch 49, Train Loss: 4.37, Train Accuracy: 85.84\n",
            "Epoch 50, Train Loss: 4.01, Train Accuracy: 87.04\n",
            "Epoch 51, Train Loss: 3.79, Train Accuracy: 88.67\n",
            "Epoch 52, Train Loss: 3.96, Train Accuracy: 87.44\n",
            "Epoch 53, Train Loss: 3.88, Train Accuracy: 87.98\n",
            "Epoch 54, Train Loss: 3.68, Train Accuracy: 88.67\n",
            "Epoch 55, Train Loss: 3.81, Train Accuracy: 88.42\n",
            "Epoch 56, Train Loss: 3.79, Train Accuracy: 88.36\n",
            "Epoch 57, Train Loss: 3.76, Train Accuracy: 88.31\n",
            "Epoch 58, Train Loss: 3.94, Train Accuracy: 87.96\n",
            "Epoch 59, Train Loss: 3.53, Train Accuracy: 90.11\n",
            "Epoch 60, Train Loss: 3.73, Train Accuracy: 88.87\n",
            "Epoch 61, Train Loss: 3.66, Train Accuracy: 89.33\n",
            "Epoch 62, Train Loss: 3.66, Train Accuracy: 89.24\n",
            "Epoch 63, Train Loss: 3.32, Train Accuracy: 90.47\n",
            "Epoch 64, Train Loss: 3.29, Train Accuracy: 90.29\n",
            "Epoch 65, Train Loss: 3.50, Train Accuracy: 89.80\n",
            "Epoch 66, Train Loss: 3.77, Train Accuracy: 88.76\n",
            "Epoch 67, Train Loss: 3.32, Train Accuracy: 90.42\n",
            "Epoch 68, Train Loss: 3.33, Train Accuracy: 90.56\n",
            "Epoch 69, Train Loss: 3.34, Train Accuracy: 90.53\n",
            "Epoch 70, Train Loss: 3.20, Train Accuracy: 90.93\n",
            "Epoch 71, Train Loss: 3.19, Train Accuracy: 90.71\n",
            "Epoch 72, Train Loss: 3.15, Train Accuracy: 90.89\n",
            "Epoch 73, Train Loss: 2.93, Train Accuracy: 91.33\n",
            "Epoch 74, Train Loss: 3.14, Train Accuracy: 91.18\n",
            "Epoch 75, Train Loss: 3.17, Train Accuracy: 91.20\n",
            "Epoch 76, Train Loss: 2.97, Train Accuracy: 91.93\n",
            "Epoch 77, Train Loss: 2.99, Train Accuracy: 91.38\n",
            "Epoch 78, Train Loss: 2.82, Train Accuracy: 92.07\n",
            "Epoch 79, Train Loss: 2.86, Train Accuracy: 92.02\n",
            "Epoch 80, Train Loss: 2.86, Train Accuracy: 92.13\n",
            "Epoch 81, Train Loss: 2.74, Train Accuracy: 92.64\n",
            "Epoch 82, Train Loss: 2.64, Train Accuracy: 92.96\n",
            "Epoch 83, Train Loss: 2.64, Train Accuracy: 92.87\n",
            "Epoch 84, Train Loss: 2.89, Train Accuracy: 91.84\n",
            "Epoch 85, Train Loss: 2.67, Train Accuracy: 92.51\n",
            "Epoch 86, Train Loss: 2.91, Train Accuracy: 92.40\n",
            "Epoch 87, Train Loss: 2.62, Train Accuracy: 93.11\n",
            "Epoch 88, Train Loss: 2.33, Train Accuracy: 93.96\n",
            "Epoch 89, Train Loss: 2.57, Train Accuracy: 93.67\n",
            "Epoch 90, Train Loss: 2.17, Train Accuracy: 94.51\n",
            "Epoch 91, Train Loss: 2.28, Train Accuracy: 94.09\n",
            "Epoch 92, Train Loss: 2.42, Train Accuracy: 93.58\n",
            "Epoch 93, Train Loss: 2.43, Train Accuracy: 93.24\n",
            "Epoch 94, Train Loss: 2.34, Train Accuracy: 93.67\n",
            "Epoch 95, Train Loss: 2.78, Train Accuracy: 92.13\n",
            "Epoch 96, Train Loss: 2.17, Train Accuracy: 94.36\n",
            "Epoch 97, Train Loss: 2.23, Train Accuracy: 94.53\n",
            "Epoch 98, Train Loss: 2.33, Train Accuracy: 93.91\n",
            "Epoch 99, Train Loss: 2.17, Train Accuracy: 94.56\n",
            "Epoch 100, Train Loss: 2.12, Train Accuracy: 94.71\n"
          ]
        }
      ],
      "source": [
        "K1 = 10      #support\n",
        "C = 4      #Class\n",
        "N = 15      # query\n",
        "n_episodes = 100\n",
        "\n",
        "for epoch in range(100):\n",
        "    train_loss = 0.0\n",
        "    train_acc = 0.0\n",
        "    for epi in range(n_episodes):\n",
        "        tquery_list, tsupport_list, query_labels, support_labels = train_episode(train_class, K1, C, N, train_class_labels)\n",
        "\n",
        "        train_loss_temp , temp_acc , c = train_step(tsupport_list, tquery_list, support_labels, query_labels, K1, C, N)\n",
        "        train_loss += train_loss_temp\n",
        "        train_acc += temp_acc\n",
        "    # Print the training loss and accuracy\n",
        "    print('Epoch {}, Train Loss: {:.2f}, Train Accuracy: {:.2f}'.format(epoch + 1, train_loss/n_episodes, train_acc/n_episodes * 100))\n",
        "\n",
        "    # if (epoch + 1) % 2 == 0:\n",
        "    #  torch.save(ProtoModel.state_dict(), f\"{checkpoint_prefix}_epoch_{epoch + 1}.pth\")"
      ]
    },
    {
      "cell_type": "code",
      "execution_count": 48,
      "metadata": {
        "id": "25tqZXB-IzzU"
      },
      "outputs": [],
      "source": [
        "torch.save(ProtoModel.state_dict(), \"/content/drive/MyDrive/all_train_weights.pth\")"
      ]
    },
    {
      "cell_type": "markdown",
      "metadata": {
        "id": "gX5rw6jy1n6J"
      },
      "source": [
        "### Load weights from training"
      ]
    },
    {
      "cell_type": "code",
      "execution_count": 65,
      "metadata": {
        "id": "uLhcVJKb1MKO"
      },
      "outputs": [],
      "source": [
        "loaded_checkpoint = torch.load(\"C:/Users/tousi.KCRND/Desktop/all_train_weights.pth\", map_location=torch.device('cpu'))\n",
        "\n",
        "ProtoModel.load_state_dict(loaded_checkpoint)\n",
        "ProtoModel.cuda()\n",
        "\n",
        "optimizer = optim.Adam(ProtoModel.parameters(), lr=0.001)\n",
        "lr_scheduler = optim.lr_scheduler.StepLR(optimizer, step_size=10, gamma=0.5)\n",
        "n_times = 10"
      ]
    },
    {
      "cell_type": "markdown",
      "metadata": {
        "id": "o5RB_xv8hZCt"
      },
      "source": [
        "# Tuning"
      ]
    },
    {
      "cell_type": "code",
      "execution_count": 50,
      "metadata": {
        "id": "kBxDB-CEhnhJ"
      },
      "outputs": [],
      "source": [
        "def tune_episode(patches_list, K, C, N, class_labels):\n",
        "    selected_classes = np.random.choice(class_labels, C, replace=False)\n",
        "    tsupport_patches = []\n",
        "    tquery_patches = []\n",
        "    query_labels = []\n",
        "    support_labels = torch.tensor(selected_classes)\n",
        "    #print(selected_classes)\n",
        "    for x in selected_classes:\n",
        "        sran_indices = np.random.choice(len(patches_list[x - 1]), K, replace=False)\n",
        "        #print('1')\n",
        "        support_patches = patches_list[x - 1][sran_indices, :]\n",
        "        qran_indices = np.random.choice(len(patches_list[x - 1]), N, replace=False)\n",
        "        query_patches = patches_list[x - 1][qran_indices, :]\n",
        "        #print('2')\n",
        "        for i in range(N):\n",
        "            query_labels.append(x)\n",
        "        tquery_patches.extend(query_patches)\n",
        "        tsupport_patches.extend(support_patches)\n",
        "\n",
        "    #tquery_patches = torch.tensor(tquery_patches)\n",
        "    query_labels = torch.tensor(query_labels)\n",
        "\n",
        "    #tsupport_patches = torch.tensor(tsupport_patches)\n",
        "\n",
        "    temp1 = list(zip(tquery_patches, query_labels))\n",
        "    random.shuffle(temp1)\n",
        "\n",
        "    tquery_patches, query_labels = zip(*temp1)\n",
        "\n",
        "    tquery_patches =  torch.reshape(torch.cat(tquery_patches), (C * N, 1000))\n",
        "    tsupport_patches = torch.reshape(torch.cat(tsupport_patches), (C * K, 1000))\n",
        "    tsupport_patches = tsupport_patches.unsqueeze(-1)\n",
        "    tquery_patches = tquery_patches.unsqueeze(-1)\n",
        "\n",
        "    return tquery_patches, tsupport_patches, query_labels, support_labels"
      ]
    },
    {
      "cell_type": "code",
      "execution_count": 51,
      "metadata": {
        "id": "TbzxfOMXqsVO"
      },
      "outputs": [],
      "source": [
        "def tune_step( support, query, support_labels, query_labels, tK, tC, tN):\n",
        "    #model.train()\n",
        "    support = support.cuda().float()\n",
        "    query = query.cuda().float()\n",
        "    support_labels = torch.tensor(support_labels).cuda().float()\n",
        "    query_labels = torch.tensor(query_labels).cuda().float()\n",
        "\n",
        "    loss, mean_accuracy, mean_predictions = ProtoModel(support, query, support_labels, query_labels, tK, tC, tN, n_times, training=True)\n",
        "\n",
        "    optimizer.zero_grad()\n",
        "    loss.backward()\n",
        "    optimizer.step()\n",
        "\n",
        "    return loss.item(), mean_accuracy.item(), mean_predictions"
      ]
    },
    {
      "cell_type": "markdown",
      "metadata": {
        "id": "mGKsiSKG1n6K"
      },
      "source": [
        "### tune loop"
      ]
    },
    {
      "cell_type": "code",
      "execution_count": null,
      "metadata": {
        "colab": {
          "base_uri": "https://localhost:8080/"
        },
        "id": "8TPWNT6qnzck",
        "outputId": "5d8c1167-1970-45d9-b2ba-e9e793952388"
      },
      "outputs": [],
      "source": [
        "n_episodes = 50\n",
        "\n",
        "for epoch in range(10):\n",
        "    train_loss = 0.0\n",
        "    train_acc = 0.0\n",
        "    for epi in range(n_episodes):\n",
        "      tune_query, tune_support, query_labels, support_labels = tune_episode(test_patches_class_1,5,2,3,test_class_labels)\n",
        "      train_loss_temp , temp_acc , c = tune_step(tune_support, tune_query,support_labels, query_labels, 5, 2, 3)\n",
        "      train_loss += train_loss_temp\n",
        "      train_acc += temp_acc\n",
        "    # Print the training loss and accuracy\n",
        "    print('Epoch {}, Train Loss: {:.3f}, Train Accuracy: {:.3f}'.format(epoch + 1, train_loss/n_episodes, train_acc/n_episodes * 100))\n",
        "    # if (epoch + 1) % 2 == 0:\n",
        "    #   torch.save(ProtoModel.state_dict(), f\"{checkpoint_prefix_1}_epoch_{epoch + 1}.pth\")"
      ]
    },
    {
      "cell_type": "markdown",
      "metadata": {
        "id": "HKAB3lEAOyqc"
      },
      "source": [
        "# load and save torchsharp"
      ]
    },
    {
      "cell_type": "code",
      "execution_count": 53,
      "metadata": {
        "id": "rCRd_iOL0oG2"
      },
      "outputs": [],
      "source": [
        "torch.save(ProtoModel.state_dict(), \"C:/Users/tousi.KCRND/Desktop/tune_weights.pth\")"
      ]
    },
    {
      "cell_type": "markdown",
      "metadata": {
        "id": "ZbPJi1Jq1n6K"
      },
      "source": [
        "### load tuning weights"
      ]
    },
    {
      "cell_type": "code",
      "execution_count": 67,
      "metadata": {
        "colab": {
          "base_uri": "https://localhost:8080/"
        },
        "id": "KPT6RSHuonVc",
        "outputId": "f6334474-c191-452a-c304-73e85317f804"
      },
      "outputs": [
        {
          "data": {
            "text/plain": [
              "device(type='cpu')"
            ]
          },
          "execution_count": 67,
          "metadata": {},
          "output_type": "execute_result"
        }
      ],
      "source": [
        "ProtoModel = Prototypical(model_mobilenet, 1000)\n",
        "loaded_checkpoint = torch.load(\"C:/Users/tousi.KCRND/Desktop/tune_weights.pth\", map_location=torch.device('cpu'))\n",
        "ProtoModel.load_state_dict(loaded_checkpoint)\n",
        "ProtoModel = ProtoModel.to('cpu')\n",
        "n_times = 10\n",
        "next(ProtoModel.parameters()).device"
      ]
    },
    {
      "cell_type": "markdown",
      "metadata": {
        "id": "LvS-GbDtp2mY"
      },
      "source": [
        "# Test"
      ]
    },
    {
      "cell_type": "code",
      "execution_count": 68,
      "metadata": {
        "id": "46sPp5OMp4HQ"
      },
      "outputs": [],
      "source": [
        "def test_episode(test_patches_class, test_class_labels, test_K):\n",
        "    selected_classes = test_class_labels\n",
        "    support_labels = list(selected_classes)\n",
        "    query_labels = []\n",
        "    support_patches = []\n",
        "    query_patches = []\n",
        "    for x in selected_classes:\n",
        "        y = test_class_labels.index(x)\n",
        "        support_imgs = test_patches_class[y][:test_K,]\n",
        "        query_imgs = test_patches_class[y][test_K:]\n",
        "        support_patches.extend(support_imgs)\n",
        "        query_patches.extend(query_imgs)\n",
        "        for i in range(query_imgs.shape[0]):\n",
        "            query_labels.append(x)\n",
        "\n",
        "    temp1 = list(zip(query_patches, query_labels))\n",
        "    random.shuffle(temp1)\n",
        "    query_patches, query_labels = zip(*temp1)\n",
        "    x = len(query_labels)\n",
        "\n",
        "    query_patches = torch.reshape(torch.cat(query_patches), (x, 1000))\n",
        "    support_patches = torch.reshape(torch.cat(support_patches), (len(support_patches),1000))\n",
        "    support_patches = support_patches.unsqueeze(-1)\n",
        "    query_patches = query_patches.unsqueeze(-1)\n",
        "    #print(type(query_patches))\n",
        "\n",
        "    return query_patches, support_patches, torch.tensor(query_labels),support_labels, x"
      ]
    },
    {
      "cell_type": "code",
      "execution_count": 69,
      "metadata": {
        "id": "xxYyJrIsk8HM"
      },
      "outputs": [],
      "source": [
        "def test_step( support, query, support_labels, query_labels, K, C, N):\n",
        "    model_mobilenet.eval()\n",
        "    with torch.no_grad():\n",
        "        #support = support.cuda()\n",
        "        #query = query.cuda()\n",
        "        #support_labels = support_labels.cuda()\n",
        "        #query_labels = query_labels.cuda()\n",
        "        support = support.float()\n",
        "        query = query.float()\n",
        "        support_labels = torch.tensor(support_labels).float()\n",
        "        query_labels = torch.tensor(query_labels).float()\n",
        "\n",
        "        mc_predictions, mean_accuracy, y = ProtoModel(support, query, support_labels, query_labels, K, C, N, n_times, training=False)\n",
        "\n",
        "    return  mc_predictions, mean_accuracy, y\n"
      ]
    },
    {
      "cell_type": "code",
      "execution_count": 76,
      "metadata": {
        "colab": {
          "base_uri": "https://localhost:8080/"
        },
        "id": "oFxDKrs1jVXU",
        "outputId": "67afd2b3-62dd-4909-cb5d-512c1e3dba0f"
      },
      "outputs": [
        {
          "name": "stdout",
          "output_type": "stream",
          "text": [
            "Confusion Matrix:\n",
            "[[129  16]\n",
            " [ 13 132]]\n"
          ]
        }
      ],
      "source": [
        "ProtoModel.eval()\n",
        "\n",
        "all_predictions = []\n",
        "all_labels = []\n",
        "\n",
        "for epoch in range(1):\n",
        "    test_loss = 0.0\n",
        "    test_acc = 0.0\n",
        "    query_patches, support_patches, query_labels, support_labels, num_queries = test_episode(test_patches_class_2, test_class_labels,5)\n",
        "    mc_predictions, mean_accuracy, y = test_step(support_patches, query_patches, support_labels, query_labels, 5, 2, num_queries/2)\n",
        "\n",
        "    mean_predictions =torch.mean(mc_predictions, axis=0)\n",
        "    class_predictions = torch.argmax(mean_predictions, axis=-1)\n",
        "    class_labels = torch.argmax(y, axis=-1)\n",
        "\n",
        "    # Convert tensors to numpy arrays\n",
        "    class_predictions_np = class_predictions.numpy()\n",
        "    class_labels_np = class_labels.numpy()\n",
        "\n",
        "    # Append predictions and labels to the lists\n",
        "    all_predictions.extend(class_predictions_np)\n",
        "    all_labels.extend(class_labels_np)\n",
        "\n",
        "# Calculate the confusion matrix\n",
        "cm = confusion_matrix(all_labels, all_predictions)\n",
        "\n",
        "print(\"Confusion Matrix:\")\n",
        "print(cm)"
      ]
    },
    {
      "cell_type": "code",
      "execution_count": 78,
      "metadata": {
        "colab": {
          "base_uri": "https://localhost:8080/"
        },
        "id": "_1N4f1-ZRyJ8",
        "outputId": "68ba7d50-160d-478e-8223-2abe3223a421"
      },
      "outputs": [
        {
          "name": "stdout",
          "output_type": "stream",
          "text": [
            "              precision    recall  f1-score   support\n",
            "\n",
            "           0       0.91      0.89      0.90       145\n",
            "           1       0.89      0.91      0.90       145\n",
            "\n",
            "    accuracy                           0.90       290\n",
            "   macro avg       0.90      0.90      0.90       290\n",
            "weighted avg       0.90      0.90      0.90       290\n",
            "\n"
          ]
        }
      ],
      "source": [
        "print(classification_report(all_labels, all_predictions))"
      ]
    },
    {
      "cell_type": "code",
      "execution_count": 59,
      "metadata": {},
      "outputs": [
        {
          "data": {
            "image/png": "[encoded data removed]",
            "text/plain": [
              "<Figure size 800x600 with 2 Axes>"
            ]
          },
          "metadata": {},
          "output_type": "display_data"
        }
      ],
      "source": [
        "classes = [' 0', ' 1']\n",
        "\n",
        "# Assuming conf_matrix is your confusion matrix\n",
        "# Assuming classes is a list of class labels\n",
        "\n",
        "# Create a heatmap\n",
        "plt.figure(figsize=(8, 6))\n",
        "sns.heatmap(cm, annot=True, cmap='icefire', fmt='g', xticklabels=classes, yticklabels=classes,annot_kws={\"size\": 15})\n",
        "\n",
        "# Add labels and title\n",
        "plt.xlabel('Predicted labels')\n",
        "plt.ylabel('True labels')\n",
        "plt.title('Confusion Matrix')\n",
        "\n",
        "# Show plot\n",
        "plt.show()"
      ]
    },
    {
      "cell_type": "markdown",
      "metadata": {
        "id": "T5eBmrUZ7FWL"
      },
      "source": [
        "# get support from tune"
      ]
    },
    {
      "cell_type": "code",
      "execution_count": 79,
      "metadata": {
        "id": "QYjvSQ8J7H_K"
      },
      "outputs": [],
      "source": [
        "def test_episode_support(test_patches_class, test_class_labels, test_K):\n",
        "    selected_classes = test_class_labels\n",
        "    support_labels = list(selected_classes)\n",
        "    support_patches = []\n",
        "\n",
        "    for x in selected_classes:\n",
        "        y = test_class_labels.index(x)\n",
        "        support_imgs = test_patches_class[y][:test_K,]\n",
        "        support_patches.extend(support_imgs)\n",
        "\n",
        "    support_patches = torch.reshape(torch.cat(support_patches), (len(support_patches), 1000))\n",
        "    support_patches = support_patches.unsqueeze(-1)\n",
        "\n",
        "    return support_patches, torch.tensor(support_labels)"
      ]
    },
    {
      "cell_type": "code",
      "execution_count": 80,
      "metadata": {
        "id": "nbOoTy0A8_On"
      },
      "outputs": [],
      "source": [
        "def test_episode_test(test_patches_class, test_class_labels):\n",
        "    selected_classes = test_class_labels\n",
        "    all_labels = []\n",
        "    all_patches = []\n",
        "\n",
        "    for x in selected_classes:\n",
        "        y = test_class_labels.index(x)\n",
        "        class_imgs = test_patches_class[y]\n",
        "        all_patches.extend(class_imgs)\n",
        "        for i in range(class_imgs.shape[0]):\n",
        "            all_labels.append(x)\n",
        "\n",
        "    temp1 = list(zip(all_patches, all_labels))\n",
        "    random.shuffle(temp1)\n",
        "    all_patches, all_labels = zip(*temp1)\n",
        "    x = len(all_labels)\n",
        "\n",
        "    all_patches = torch.reshape(torch.cat(all_patches), (x, 1000))\n",
        "    all_patches = all_patches.unsqueeze(-1)\n",
        "\n",
        "    return all_patches, torch.tensor(all_labels) , x\n"
      ]
    },
    {
      "cell_type": "code",
      "execution_count": 82,
      "metadata": {
        "colab": {
          "base_uri": "https://localhost:8080/"
        },
        "id": "K48K6qnQ7mHm",
        "outputId": "3b2400f7-0af8-4af4-f614-9831f715188f"
      },
      "outputs": [
        {
          "name": "stdout",
          "output_type": "stream",
          "text": [
            "Confusion Matrix:\n",
            "[[134  16]\n",
            " [ 11 139]]\n"
          ]
        }
      ],
      "source": [
        "ProtoModel.eval()\n",
        "\n",
        "all_predictions = []\n",
        "all_labels = []\n",
        "\n",
        "for epoch in range(1):\n",
        "    test_loss = 0.0\n",
        "    test_acc = 0.0\n",
        "    support_patches, support_labels = test_episode_support(test_patches_class_1, test_class_labels,10)\n",
        "    query_patches, query_labels, num_queries = test_episode_test(test_patches_class_2, test_class_labels)\n",
        "    mc_predictions, mean_accuracy, y = test_step(support_patches, query_patches, support_labels, query_labels, 10, 2, num_queries/2)\n",
        "\n",
        "    mean_predictions =torch.mean(mc_predictions, axis=0)\n",
        "    class_predictions = torch.argmax(mean_predictions, axis=-1)\n",
        "    class_labels = torch.argmax(y, axis=-1)\n",
        "\n",
        "    class_predictions_np = class_predictions.numpy()\n",
        "    class_labels_np = class_labels.numpy()\n",
        "\n",
        "    all_predictions.extend(class_predictions_np)\n",
        "    all_labels.extend(class_labels_np)\n",
        "    \n",
        "cm = confusion_matrix(all_labels, all_predictions)\n",
        "\n",
        "print(\"Confusion Matrix:\")\n",
        "print(cm)"
      ]
    },
    {
      "cell_type": "code",
      "execution_count": 83,
      "metadata": {
        "colab": {
          "base_uri": "https://localhost:8080/"
        },
        "id": "WeQq9ni58Qjc",
        "outputId": "39fef4fb-1456-4ad5-d646-35195598fcd6"
      },
      "outputs": [
        {
          "name": "stdout",
          "output_type": "stream",
          "text": [
            "              precision    recall  f1-score   support\n",
            "\n",
            "           0       0.92      0.89      0.91       150\n",
            "           1       0.90      0.93      0.91       150\n",
            "\n",
            "    accuracy                           0.91       300\n",
            "   macro avg       0.91      0.91      0.91       300\n",
            "weighted avg       0.91      0.91      0.91       300\n",
            "\n"
          ]
        }
      ],
      "source": [
        "print(classification_report(all_labels, all_predictions))"
      ]
    },
    {
      "cell_type": "code",
      "execution_count": 84,
      "metadata": {},
      "outputs": [
        {
          "data": {
            "image/png": "[encoded data removed]",
            "text/plain": [
              "<Figure size 800x600 with 2 Axes>"
            ]
          },
          "metadata": {},
          "output_type": "display_data"
        }
      ],
      "source": [
        "classes = [' 0', ' 1']\n",
        "\n",
        "# Assuming conf_matrix is your confusion matrix\n",
        "# Assuming classes is a list of class labels\n",
        "\n",
        "# Create a heatmap\n",
        "plt.figure(figsize=(8, 6))\n",
        "sns.heatmap(cm, annot=True, cmap='Greens', fmt='g', xticklabels=classes, yticklabels=classes,annot_kws={\"size\": 15})\n",
        "\n",
        "# Add labels and title\n",
        "plt.xlabel('Predicted labels')\n",
        "plt.ylabel('True labels')\n",
        "plt.title('Confusion Matrix')\n",
        "\n",
        "# Show plot\n",
        "plt.show()"
      ]
    },
    {
      "cell_type": "markdown",
      "metadata": {
        "id": "YwksKmRJtOu8"
      },
      "source": [
        "### Create prototype with support data"
      ]
    },
    {
      "cell_type": "code",
      "execution_count": null,
      "metadata": {
        "id": "8sdxWdzPBkGW"
      },
      "outputs": [],
      "source": [
        "support_patches, support_labels = test_episode_support(test_patches_class_1, test_class_labels,10)"
      ]
    },
    {
      "cell_type": "code",
      "execution_count": null,
      "metadata": {
        "id": "o-DbGgVRuurL"
      },
      "outputs": [],
      "source": [
        "def calc_prototype(support, support_labels, K, C):\n",
        "    n_class = C\n",
        "    n_support = K\n",
        "\n",
        "    tsupport_patches, _ = test_episode_support(support, support_labels, K)\n",
        "    #tsupport_labels = support_labels.repeat(K)\n",
        "    cat = tsupport_patches.float()\n",
        "    z = model_mobilenet(cat)\n",
        "    z_prototypes = z[:n_class * n_support].view(n_class, n_support, z.shape[-1])\n",
        "    z_prototypes = torch.mean(z_prototypes, dim=1)\n",
        "    return z_prototypes\n"
      ]
    },
    {
      "cell_type": "code",
      "execution_count": null,
      "metadata": {
        "id": "pWvPcnhguzDD"
      },
      "outputs": [],
      "source": [
        "import json\n",
        "def save_to_json_new(filename, *arrays):\n",
        "    json_data = [arr.tolist() for arr in arrays]\n",
        "    with open(filename, 'w') as json_file:\n",
        "        json.dump(json_data, json_file)"
      ]
    },
    {
      "cell_type": "code",
      "execution_count": null,
      "metadata": {
        "id": "s5oM4tvdt-ev"
      },
      "outputs": [],
      "source": [
        "tsupport_patches, _ = test_episode_support(test_patches_class_1, test_class_labels, 10)"
      ]
    },
    {
      "cell_type": "code",
      "execution_count": null,
      "metadata": {
        "colab": {
          "base_uri": "https://localhost:8080/"
        },
        "id": "4V2MwezTtwpF",
        "outputId": "4132199f-eae5-4cdc-e57b-36e463f7b3d6"
      },
      "outputs": [],
      "source": [
        "prototype_test = calc_prototype(test_patches_class_1, test_class_labels, 10, 2)\n",
        "prototype_test[1]"
      ]
    },
    {
      "cell_type": "code",
      "execution_count": null,
      "metadata": {
        "id": "6TUPtARlulvZ"
      },
      "outputs": [],
      "source": [
        "proto0_tensor_reshaped = prototype_test[0].unsqueeze(0)\n",
        "proto1_tensor_reshaped = prototype_test[1].unsqueeze(0)\n",
        "\n",
        "\n",
        "d0_squared = calc_euclidean_dists(model_mobilenet(torch.ones(1000)), proto0_tensor_reshaped).item()\n",
        "d1_squared = calc_euclidean_dists(model_mobilenet(torch.ones(1000)), proto1_tensor_reshaped).item()"
      ]
    },
    {
      "cell_type": "code",
      "execution_count": null,
      "metadata": {
        "colab": {
          "base_uri": "https://localhost:8080/"
        },
        "id": "oEtcDK38vEXM",
        "outputId": "b8c57939-a40f-4e95-8a4a-cc98872650f8"
      },
      "outputs": [],
      "source": [
        "print('d0_squared', d0_squared)\n",
        "print('d1_squared', d1_squared)"
      ]
    },
    {
      "cell_type": "code",
      "execution_count": null,
      "metadata": {
        "id": "rUxqsL7gvOPj"
      },
      "outputs": [],
      "source": [
        "d0_squared_ = (torch.linalg.vector_norm(model_mobilenet(torch.ones(1000)) - proto0_tensor_reshaped).item()**2)/64\n",
        "d1_squared_ = (torch.linalg.vector_norm(model_mobilenet(torch.ones(1000)) - proto1_tensor_reshaped).item()**2)/64"
      ]
    },
    {
      "cell_type": "code",
      "execution_count": null,
      "metadata": {
        "colab": {
          "base_uri": "https://localhost:8080/"
        },
        "id": "g3aeUxpVvY9V",
        "outputId": "bf061423-ecc9-4767-a574-a3a78e1257bb"
      },
      "outputs": [],
      "source": [
        "print('d0_squared_:', d0_squared_)\n",
        "print('d1_squared_:', d1_squared_)"
      ]
    },
    {
      "cell_type": "code",
      "execution_count": null,
      "metadata": {
        "colab": {
          "base_uri": "https://localhost:8080/"
        },
        "id": "KxRMFObaODPm",
        "outputId": "175d28ec-915a-4a62-b264-b65da5f43f0c"
      },
      "outputs": [],
      "source": [
        "print(\"Model Output Shape:\", model_mobilenet(torch.ones(1000)).shape)\n",
        "print(\"Proto0 Tensor Shape:\", proto0_tensor_reshaped.shape)\n",
        "print(\"Proto1 Tensor Shape:\", proto1_tensor_reshaped.shape)\n",
        "\n",
        "d0_squared = calc_euclidean_dists(model_mobilenet(torch.ones(1000)), proto0_tensor_reshaped).item()\n",
        "d1_squared = calc_euclidean_dists(model_mobilenet(torch.ones(1000)), proto1_tensor_reshaped).item()\n",
        "\n",
        "print(\"D0 Squared (calc_euclidean_dists):\", d0_squared)\n",
        "print(\"D1 Squared (calc_euclidean_dists):\", d1_squared)\n",
        "\n",
        "d0_squared_ = (torch.linalg.vector_norm(model_mobilenet(torch.ones(1000)) - proto0_tensor_reshaped).item()**2)/64\n",
        "d1_squared_ = (torch.linalg.vector_norm(model_mobilenet(torch.ones(1000)) - proto1_tensor_reshaped).item()**2)/64\n",
        "\n",
        "print(\"D0 Squared (torch.linalg.vector_norm):\", d0_squared_)\n",
        "print(\"D1 Squared (torch.linalg.vector_norm):\", d1_squared_)"
      ]
    },
    {
      "cell_type": "code",
      "execution_count": null,
      "metadata": {
        "id": "XMH02uYyu2az"
      },
      "outputs": [],
      "source": [
        "model_mobilenet.eval()\n",
        "num_iterations = 10\n",
        "results_0 = []\n",
        "results_1 = []\n",
        "\n",
        "#shot_value = [10]\n",
        "shot_value = [3, 5, 7, 10, 15, 20, 25 , 30, 40]\n",
        "iteration_prototypes = []\n",
        "for value in shot_value:\n",
        "    prototype = calc_prototype(test_patches_class_1, test_class_labels, value, 2)\n",
        "    iteration_prototypes.append(prototype)\n",
        "\n",
        "results_0.append([proto[0].detach().numpy() for proto in iteration_prototypes])\n",
        "results_1.append([proto[1].detach().numpy() for proto in iteration_prototypes])\n",
        "\n",
        "\n",
        "del shot_value\n",
        "del iteration_prototypes"
      ]
    },
    {
      "cell_type": "code",
      "execution_count": null,
      "metadata": {
        "id": "-qPoAqZrvfgo"
      },
      "outputs": [],
      "source": [
        "def convert_to_serializable(obj):\n",
        "    if isinstance(obj, np.ndarray):\n",
        "        return obj.tolist()\n",
        "    elif isinstance(obj, list):\n",
        "        return [convert_to_serializable(item) for item in obj]\n",
        "    else:\n",
        "        return obj\n",
        "\n",
        "result_0_flat = [item for sublist in results_0 for item in sublist]\n",
        "result_0_array = np.array(result_0_flat)\n",
        "result_0_list = result_0_array.tolist()\n",
        "converted_result_0 = convert_to_serializable(result_0_list)\n",
        "\n",
        "result_1_flat = [item for sublist in results_1 for item in sublist]\n",
        "result_1_array = np.array(result_1_flat)\n",
        "result_1_list = result_1_array.tolist()\n",
        "converted_result_1 = convert_to_serializable(result_1_list)\n"
      ]
    },
    {
      "cell_type": "markdown",
      "metadata": {
        "id": "I_WC_oQgTILm"
      },
      "source": [
        "# test prototype"
      ]
    },
    {
      "cell_type": "code",
      "execution_count": null,
      "metadata": {
        "id": "QY9xvuiq0RBf"
      },
      "outputs": [],
      "source": [
        "import json\n",
        "with open('new_prototype_0.json', 'w') as json_file:\n",
        "    json.dump(converted_result_0, json_file)\n",
        "\n",
        "with open('new_prototype_1.json', 'w') as json_file:\n",
        "    json.dump(converted_result_1, json_file)"
      ]
    },
    {
      "cell_type": "code",
      "execution_count": null,
      "metadata": {
        "id": "tg1loAiyTFf-"
      },
      "outputs": [],
      "source": [
        "c_test = pd.read_csv('/content/test.csv')"
      ]
    },
    {
      "cell_type": "code",
      "execution_count": null,
      "metadata": {
        "id": "AVAMe8GjTtkv"
      },
      "outputs": [],
      "source": [
        "def read_all_rows_from_csv(file_path):\n",
        "    df = pd.read_csv(file_path, header=None, skiprows=1)\n",
        "   # df = df.iloc[:, :-1]\n",
        "    all_samples = df.values.tolist()\n",
        "    return all_samples"
      ]
    },
    {
      "cell_type": "code",
      "execution_count": null,
      "metadata": {
        "id": "Tuw2GK72aaZJ"
      },
      "outputs": [],
      "source": [
        "json_file_path_0 = '/content/new_prototype_0.json'\n",
        "json_file_path_1 = '/content/new_prototype_1.json'\n",
        "\n",
        "with open(json_file_path_0, 'r') as json_file_0:\n",
        "    proto0 = json.load(json_file_0)\n",
        "\n",
        "with open(json_file_path_1, 'r') as json_file_1:\n",
        "    proto1 = json.load(json_file_1)"
      ]
    },
    {
      "cell_type": "code",
      "execution_count": null,
      "metadata": {
        "id": "1YzzePsvTx-Z"
      },
      "outputs": [],
      "source": [
        "csv_file_path = \"/content/test.csv\"\n",
        "all_samples = read_all_rows_from_csv(csv_file_path)\n",
        "\n",
        "model_mobilenet.eval()\n",
        "\n",
        "sample_size = 1\n",
        "\n",
        "all_results = []\n",
        "\n",
        "for input_sample in all_samples:\n",
        "    tests = []\n",
        "\n",
        "    for sample_index in range(sample_size):\n",
        "\n",
        "        proto0_tensor = torch.tensor(proto0[sample_index])\n",
        "        proto1_tensor = torch.tensor(proto1[sample_index])\n",
        "        proto0_tensor_reshaped = proto0_tensor.unsqueeze(0)\n",
        "        proto1_tensor_reshaped = proto1_tensor.unsqueeze(0)\n",
        "\n",
        "        t_input = torch.tensor([float(value) for value in input_sample], dtype=torch.float32)\n",
        "        t_input = t_input.detach()\n",
        "        #print('t_input_shape',t_input.shape)\n",
        "\n",
        "        # d0 = torch.linalg.norm(model_mobilenet(t_input) - proto0_tensor).item()\n",
        "        # d1 = torch.linalg.norm(model_mobilenet(t_input) - proto1_tensor).item()\n",
        "\n",
        "        d0_squared = calc_euclidean_dists(model_mobilenet(t_input), proto0_tensor_reshaped).item()\n",
        "        d1_squared = calc_euclidean_dists(model_mobilenet(t_input), proto1_tensor_reshaped).item()\n",
        "        d0 = d0_squared\n",
        "        d1 = d1_squared\n",
        "        # print('d0:',d0)\n",
        "        # print('d1:',d1)\n",
        "        # print('*****************')\n",
        "\n",
        "        if d0 < d1:\n",
        "            tests.append(0)\n",
        "        elif d1 <= d0:\n",
        "            tests.append(1)\n",
        "\n",
        "    majority_vote = 1 if sum(tests) > (sample_size/2) else 0\n",
        "    sample_results =  tests+   [majority_vote]\n",
        "    all_results.append(sample_results)"
      ]
    }
  ],
  "metadata": {
    "accelerator": "GPU",
    "colab": {
      "collapsed_sections": [
        "-yBeXMEbPoqk"
      ],
      "gpuType": "T4",
      "provenance": []
    },
    "kernelspec": {
      "display_name": "Python 3",
      "name": "python3"
    },
    "language_info": {
      "codemirror_mode": {
        "name": "ipython",
        "version": 3
      },
      "file_extension": ".py",
      "mimetype": "text/x-python",
      "name": "python",
      "nbconvert_exporter": "python",
      "pygments_lexer": "ipython3",
      "version": "3.11.5"
    }
  },
  "nbformat": 4,
  "nbformat_minor": 0
}
